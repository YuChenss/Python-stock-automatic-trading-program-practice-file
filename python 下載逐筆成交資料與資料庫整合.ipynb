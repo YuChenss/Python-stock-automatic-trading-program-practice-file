{
 "cells": [
  {
   "cell_type": "code",
   "execution_count": 1,
   "metadata": {},
   "outputs": [
    {
     "ename": "ModuleNotFoundError",
     "evalue": "No module named 'trading_calendars'",
     "output_type": "error",
     "traceback": [
      "\u001b[1;31m---------------------------------------------------------------------------\u001b[0m",
      "\u001b[1;31mModuleNotFoundError\u001b[0m                       Traceback (most recent call last)",
      "\u001b[1;32m<ipython-input-1-b8cef1b9aea5>\u001b[0m in \u001b[0;36m<module>\u001b[1;34m\u001b[0m\n\u001b[0;32m      2\u001b[0m \u001b[1;32mimport\u001b[0m \u001b[0mpandas\u001b[0m \u001b[1;32mas\u001b[0m \u001b[0mpd\u001b[0m\u001b[1;33m\u001b[0m\u001b[1;33m\u001b[0m\u001b[0m\n\u001b[0;32m      3\u001b[0m \u001b[1;32mimport\u001b[0m \u001b[0mtime\u001b[0m\u001b[1;33m\u001b[0m\u001b[1;33m\u001b[0m\u001b[0m\n\u001b[1;32m----> 4\u001b[1;33m \u001b[1;32mfrom\u001b[0m \u001b[0mtrading_calendars\u001b[0m \u001b[1;32mimport\u001b[0m \u001b[0mget_calendar\u001b[0m\u001b[1;33m\u001b[0m\u001b[1;33m\u001b[0m\u001b[0m\n\u001b[0m\u001b[0;32m      5\u001b[0m \u001b[1;33m\u001b[0m\u001b[0m\n\u001b[0;32m      6\u001b[0m \u001b[1;32mdef\u001b[0m \u001b[0mget_stock\u001b[0m\u001b[1;33m(\u001b[0m\u001b[0mcode\u001b[0m\u001b[1;33m,\u001b[0m \u001b[0mconnection\u001b[0m\u001b[1;33m,\u001b[0m \u001b[0mapi\u001b[0m\u001b[1;33m)\u001b[0m\u001b[1;33m:\u001b[0m\u001b[1;33m\u001b[0m\u001b[1;33m\u001b[0m\u001b[0m\n",
      "\u001b[1;31mModuleNotFoundError\u001b[0m: No module named 'trading_calendars'"
     ]
    }
   ],
   "source": [
    "import sqlite3\n",
    "import pandas as pd\n",
    "import time\n",
    "from trading_calendars import get_calendar\n",
    "\n",
    "def get_stock(code, connection, api):\n",
    "\n",
    "        try:\n",
    "            sql = \"SELECT * FROM stocks WHERE code = '{}'\".format(code)\n",
    "            df = pd.read_sql(sql, connection, index_col=['code'])\n",
    "        except:\n",
    "            df = pd.DataFrame()\n",
    "    \n",
    "        if not df.empty:\n",
    "            return df, True\n",
    "    \n",
    "        stock = api.Contracts.Stocks[code]\n",
    "    \n",
    "        stock_dict = {\n",
    "            'code': [stock.code],\n",
    "            'name': [stock.name],\n",
    "            'category': [stock.category],\n",
    "            'day_trade': [stock.day_trade.value]\n",
    "        }\n",
    "   \n",
    "        df = pd.DataFrame(data=stock_dict)\n",
    "        df = df.set_index('code')\n",
    "        \n",
    "        return df, False"
   ]
  },
  {
   "cell_type": "code",
   "execution_count": 15,
   "metadata": {},
   "outputs": [],
   "source": [
    "def get_ticks(code, date, connection, api):\n",
    "    \n",
    "    try:\n",
    "        sql = \"SELECT * FROM ticks WHERE code = '{}' and ts BETWEEN '{}' AND' '{}'\".format(code,\n",
    "                                                                                           date,\n",
    "                                                                                           date+\n",
    "                                                                                           datetime.timedelta(days=1))\n",
    "        df = pd.read_sql(sql, connection, parse_dates=[\"ts\"], index_col=[\"ts\"])\n",
    "    except:\n",
    "        df = pd.DataFrame()\n",
    "        \n",
    "    if not df.empty:\n",
    "         return df, True\n",
    "        \n",
    "    ticks = api.ticks(api.Contracts.Stocks[code], date.strftime('&Y-&m-&d'))\n",
    "    \n",
    "    df = pd.DataFrame({**ticks})\n",
    "    \n",
    "    df.ts = pd.to_datatime(df.ts)   \n",
    "    \n",
    "    df['code'] = code\n",
    "    \n",
    "    df = df.set_index('ts')\n",
    "    \n",
    "    return df, False"
   ]
  },
  {
   "cell_type": "code",
   "execution_count": 16,
   "metadata": {
    "scrolled": true
   },
   "outputs": [
    {
     "name": "stdout",
     "output_type": "stream",
     "text": [
      "Response Code: 0 | Event Code: 0 | Info: host '203.66.91.161:80', hostname '203.66.91.161:80' IP 203.66.91.161:80 (host 1 of 1) (host connection attempt 1 of 1) (total connection attempt 1 of 1) | Event: Session up\n",
      "<SecurityType.Index: 'IND'> fetch done.\n",
      "<SecurityType.Future: 'FUT'> fetch done.\n"
     ]
    }
   ],
   "source": [
    "import shioaji as sj\n",
    "api = sj.Shioaji()\n",
    "api.login(\n",
    "    person_id='N123569782',\n",
    "    passwd='hons3146',\n",
    "    contracts_cb=lambda security_type: print(f\"{repr(security_type)} fetch done.\")\n",
    ")\n",
    "\n",
    "connection = sqlite3.connect('data.db')"
   ]
  },
  {
   "cell_type": "code",
   "execution_count": 17,
   "metadata": {},
   "outputs": [
    {
     "name": "stdout",
     "output_type": "stream",
     "text": [
      "<SecurityType.Option: 'OPT'> fetch done.\n",
      "<SecurityType.Stock: 'STK'> fetch done.\n"
     ]
    },
    {
     "ename": "Exception",
     "evalue": "{'status': {'status_code': 422}, 'response': {'detail': [{'loc': ['body', 'ticks_input', 'date'], 'msg': 'Incorrect data format, should be YYYY-MM-DD', 'type': 'value_error'}]}}",
     "output_type": "error",
     "traceback": [
      "\u001b[1;31m---------------------------------------------------------------------------\u001b[0m",
      "\u001b[1;31mException\u001b[0m                                 Traceback (most recent call last)",
      "\u001b[1;32m<ipython-input-17-d2e876cdb9ce>\u001b[0m in \u001b[0;36m<module>\u001b[1;34m\u001b[0m\n\u001b[1;32m----> 1\u001b[1;33m \u001b[0mdf\u001b[0m\u001b[1;33m,\u001b[0m \u001b[0min_db\u001b[0m \u001b[1;33m=\u001b[0m \u001b[0mget_ticks\u001b[0m\u001b[1;33m(\u001b[0m\u001b[1;34m'2303'\u001b[0m\u001b[1;33m,\u001b[0m\u001b[0mpd\u001b[0m\u001b[1;33m.\u001b[0m\u001b[0mto_datetime\u001b[0m\u001b[1;33m(\u001b[0m\u001b[1;34m'2021/06/15'\u001b[0m\u001b[1;33m)\u001b[0m\u001b[1;33m,\u001b[0m \u001b[0mconnection\u001b[0m\u001b[1;33m,\u001b[0m \u001b[0mapi\u001b[0m\u001b[1;33m)\u001b[0m\u001b[1;33m\u001b[0m\u001b[1;33m\u001b[0m\u001b[0m\n\u001b[0m\u001b[0;32m      2\u001b[0m \u001b[1;33m\u001b[0m\u001b[0m\n\u001b[0;32m      3\u001b[0m \u001b[0mprint\u001b[0m\u001b[1;33m(\u001b[0m\u001b[0min_db\u001b[0m\u001b[1;33m)\u001b[0m\u001b[1;33m\u001b[0m\u001b[1;33m\u001b[0m\u001b[0m\n\u001b[0;32m      4\u001b[0m \u001b[0mdf\u001b[0m\u001b[1;33m\u001b[0m\u001b[1;33m\u001b[0m\u001b[0m\n",
      "\u001b[1;32m<ipython-input-15-ee096ca8b05a>\u001b[0m in \u001b[0;36mget_ticks\u001b[1;34m(code, date, connection, api)\u001b[0m\n\u001b[0;32m     13\u001b[0m          \u001b[1;32mreturn\u001b[0m \u001b[0mdf\u001b[0m\u001b[1;33m,\u001b[0m \u001b[1;32mTrue\u001b[0m\u001b[1;33m\u001b[0m\u001b[1;33m\u001b[0m\u001b[0m\n\u001b[0;32m     14\u001b[0m \u001b[1;33m\u001b[0m\u001b[0m\n\u001b[1;32m---> 15\u001b[1;33m     \u001b[0mticks\u001b[0m \u001b[1;33m=\u001b[0m \u001b[0mapi\u001b[0m\u001b[1;33m.\u001b[0m\u001b[0mticks\u001b[0m\u001b[1;33m(\u001b[0m\u001b[0mapi\u001b[0m\u001b[1;33m.\u001b[0m\u001b[0mContracts\u001b[0m\u001b[1;33m.\u001b[0m\u001b[0mStocks\u001b[0m\u001b[1;33m[\u001b[0m\u001b[0mcode\u001b[0m\u001b[1;33m]\u001b[0m\u001b[1;33m,\u001b[0m \u001b[0mdate\u001b[0m\u001b[1;33m.\u001b[0m\u001b[0mstrftime\u001b[0m\u001b[1;33m(\u001b[0m\u001b[1;34m'&Y-&m-&d'\u001b[0m\u001b[1;33m)\u001b[0m\u001b[1;33m)\u001b[0m\u001b[1;33m\u001b[0m\u001b[1;33m\u001b[0m\u001b[0m\n\u001b[0m\u001b[0;32m     16\u001b[0m \u001b[1;33m\u001b[0m\u001b[0m\n\u001b[0;32m     17\u001b[0m     \u001b[0mdf\u001b[0m \u001b[1;33m=\u001b[0m \u001b[0mpd\u001b[0m\u001b[1;33m.\u001b[0m\u001b[0mDataFrame\u001b[0m\u001b[1;33m(\u001b[0m\u001b[1;33m{\u001b[0m\u001b[1;33m**\u001b[0m\u001b[0mticks\u001b[0m\u001b[1;33m}\u001b[0m\u001b[1;33m)\u001b[0m\u001b[1;33m\u001b[0m\u001b[1;33m\u001b[0m\u001b[0m\n",
      "\u001b[1;32m~\\anaconda3\\lib\\site-packages\\shioaji\\shioaji.py\u001b[0m in \u001b[0;36mticks\u001b[1;34m(self, contract, date, query_type, time_start, time_end, last_cnt, timeout, cb)\u001b[0m\n\u001b[0;32m    545\u001b[0m             \u001b[0mdate\u001b[0m \u001b[1;33m(\u001b[0m\u001b[0mstr\u001b[0m\u001b[1;33m)\u001b[0m\u001b[1;33m:\u001b[0m \u001b[1;34m\"2020-02-02\"\u001b[0m\u001b[1;33m\u001b[0m\u001b[1;33m\u001b[0m\u001b[0m\n\u001b[0;32m    546\u001b[0m         \"\"\"\n\u001b[1;32m--> 547\u001b[1;33m         ticks = self._solace.ticks(\n\u001b[0m\u001b[0;32m    548\u001b[0m             \u001b[0mcontract\u001b[0m\u001b[1;33m,\u001b[0m\u001b[1;33m\u001b[0m\u001b[1;33m\u001b[0m\u001b[0m\n\u001b[0;32m    549\u001b[0m             \u001b[0mdate\u001b[0m\u001b[1;33m,\u001b[0m\u001b[1;33m\u001b[0m\u001b[1;33m\u001b[0m\u001b[0m\n",
      "\u001b[1;32mshioaji\\backend\\solace\\api.pyx\u001b[0m in \u001b[0;36mshioaji.backend.solace.api.SolaceAPI.ticks\u001b[1;34m()\u001b[0m\n",
      "\u001b[1;32mshioaji\\backend\\solace\\api.pyx\u001b[0m in \u001b[0;36mshioaji.backend.solace.api.SolaceAPI._ticks_cb\u001b[1;34m()\u001b[0m\n",
      "\u001b[1;32m~\\anaconda3\\lib\\site-packages\\shioaji\\utils.py\u001b[0m in \u001b[0;36mraise_resp_error\u001b[1;34m(status_code, resp)\u001b[0m\n\u001b[0;32m     47\u001b[0m         \u001b[1;32mraise\u001b[0m \u001b[0mSystemMaintenance\u001b[0m\u001b[1;33m(\u001b[0m\u001b[0mstatus_code\u001b[0m\u001b[1;33m,\u001b[0m \u001b[0mdetail\u001b[0m\u001b[1;33m)\u001b[0m\u001b[1;33m\u001b[0m\u001b[1;33m\u001b[0m\u001b[0m\n\u001b[0;32m     48\u001b[0m     \u001b[1;32melse\u001b[0m\u001b[1;33m:\u001b[0m\u001b[1;33m\u001b[0m\u001b[1;33m\u001b[0m\u001b[0m\n\u001b[1;32m---> 49\u001b[1;33m         \u001b[1;32mraise\u001b[0m \u001b[0mException\u001b[0m\u001b[1;33m(\u001b[0m\u001b[0mresp\u001b[0m\u001b[1;33m)\u001b[0m\u001b[1;33m\u001b[0m\u001b[1;33m\u001b[0m\u001b[0m\n\u001b[0m",
      "\u001b[1;31mException\u001b[0m: {'status': {'status_code': 422}, 'response': {'detail': [{'loc': ['body', 'ticks_input', 'date'], 'msg': 'Incorrect data format, should be YYYY-MM-DD', 'type': 'value_error'}]}}"
     ]
    }
   ],
   "source": [
    "df, in_db = get_ticks('2303',pd.to_datetime('2021/06/15'), connection, api)\n",
    "    \n",
    "print(in_db)\n",
    "df"
   ]
  },
  {
   "cell_type": "code",
   "execution_count": 20,
   "metadata": {},
   "outputs": [],
   "source": [
    "def update_ticks(daily_target, connection, api):\n",
    "    \n",
    "    main_df = pd.DataFrame()\n",
    "    \n",
    "    tw_calendar = get_calendar('XTAI')\n",
    "    \n",
    "    for date, codes in daily_target.items():\n",
    "        \n",
    "        day_trading_codes = [code for code in codes if get_stock(code, connection, api)[0].iloc[0]['day_trade'] == 'Yes']\n",
    "        \n",
    "        print('正在更新{}逐筆成交資料，總共{}檔標的'.format(date.strftime('%Y/%m/%d'), len(day_trading_codes)))   \n",
    "        \n",
    "        for code in day_trading_codes:\n",
    "            \n",
    "            df, in_db = get_ticks(code, date, connection, api)\n",
    "            \n",
    "            if df is not None and not in_db:  \n",
    "                \n",
    "                main_df = main_df.append(df, sort=False)\n",
    "                \n",
    "                time.sleep(1)\n",
    "                \n",
    "            prev_trading_date = tw_calendar.previous_close(date).date()\n",
    "            \n",
    "            prev_df, prev_in_db = get_ticks(code, prev_trading_date, connection, api)\n",
    "                \n",
    "            if prev_df is not None and not prev_in_db:\n",
    "                \n",
    "                    main_df = main_df.append(prev_df, sort=False)\n",
    "                    \n",
    "                    time.sleep(1)  \n",
    "                    \n",
    "    if not main_df.empty:\n",
    "        \n",
    "            main_df.to_sql('ticks', connection, if_exists='append')\n",
    "            \n",
    "            return main_df"
   ]
  },
  {
   "cell_type": "code",
   "execution_count": 19,
   "metadata": {},
   "outputs": [
    {
     "data": {
      "text/plain": [
       "{Timestamp('2021-06-09 00:00:00'): ['2303', '2603', '2609', '3576', '6443'],\n",
       " Timestamp('2021-06-11 00:00:00'): ['2324', '3576', '6443'],\n",
       " Timestamp('2021-06-15 00:00:00'): ['1609',\n",
       "  '1714',\n",
       "  '1802',\n",
       "  '2303',\n",
       "  '2344',\n",
       "  '2349',\n",
       "  '2409',\n",
       "  '2603',\n",
       "  '3481',\n",
       "  '3576',\n",
       "  '3704',\n",
       "  '6116',\n",
       "  '6191']}"
      ]
     },
     "execution_count": 19,
     "metadata": {},
     "output_type": "execute_result"
    }
   ],
   "source": [
    "daily_target = {\n",
    "        pd.to_datetime('2021-06-09'): ['2303', '2603', '2609', '3576', '6443'],\n",
    "        pd.to_datetime('2021-06-11'): ['2324', '3576', '6443'],\n",
    "        pd.to_datetime('2021-06-15'): ['1609', '1714', '1802', '2303', '2344', '2349', '2409', '2603', '3481', '3576', '3704', '6116', '6191']\n",
    "    }\n",
    "daily_target"
   ]
  },
  {
   "cell_type": "code",
   "execution_count": 18,
   "metadata": {},
   "outputs": [
    {
     "ename": "NameError",
     "evalue": "name 'daily_target' is not defined",
     "output_type": "error",
     "traceback": [
      "\u001b[1;31m---------------------------------------------------------------------------\u001b[0m",
      "\u001b[1;31mNameError\u001b[0m                                 Traceback (most recent call last)",
      "\u001b[1;32m<ipython-input-18-ef47da10b275>\u001b[0m in \u001b[0;36m<module>\u001b[1;34m\u001b[0m\n\u001b[1;32m----> 1\u001b[1;33m \u001b[0mupdate_ticks\u001b[0m\u001b[1;33m(\u001b[0m\u001b[0mdaily_target\u001b[0m\u001b[1;33m,\u001b[0m \u001b[0mconnection\u001b[0m\u001b[1;33m,\u001b[0m \u001b[0mapi\u001b[0m\u001b[1;33m)\u001b[0m\u001b[1;33m\u001b[0m\u001b[1;33m\u001b[0m\u001b[0m\n\u001b[0m",
      "\u001b[1;31mNameError\u001b[0m: name 'daily_target' is not defined"
     ]
    }
   ],
   "source": [
    "update_ticks(daily_target, connection, api)  "
   ]
  },
  {
   "cell_type": "code",
   "execution_count": null,
   "metadata": {},
   "outputs": [],
   "source": []
  }
 ],
 "metadata": {
  "kernelspec": {
   "display_name": "Python 3",
   "language": "python",
   "name": "python3"
  },
  "language_info": {
   "codemirror_mode": {
    "name": "ipython",
    "version": 3
   },
   "file_extension": ".py",
   "mimetype": "text/x-python",
   "name": "python",
   "nbconvert_exporter": "python",
   "pygments_lexer": "ipython3",
   "version": "3.8.8"
  }
 },
 "nbformat": 4,
 "nbformat_minor": 4
}
