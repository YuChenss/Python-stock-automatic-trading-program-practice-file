{
 "cells": [
  {
   "cell_type": "code",
   "execution_count": 2,
   "metadata": {},
   "outputs": [],
   "source": [
    "import pandas as pd\n",
    "from trading_calendars import get_calendar\n",
    "import sqlite3\n",
    "    \n",
    "def get_stocks(date, connection):\n",
    " \n",
    "    tw_calendar = get_calendar('XTAI')\n",
    "    \n",
    "    prev_trading_date = tw_calendar.previous_close(date).date()\n",
    "    \n",
    "    df = pd.read_sql('SELECT * FROM daily_prices WHERE 日期 = \\\"{} 00:00:00\\\"'.format(prev_trading_date),\n",
    "                     connection, parse_dates=['日期'])\n",
    "    \n",
    "    codes = df[(df['收盤價'] > 5) &\n",
    "               (df['收盤價'] < 60) &\n",
    "               (df['股價振幅'] > 4) &\n",
    "               (df['成交股數'] > 100000000)]['證券代號'].tolist()\n",
    "    \n",
    "    return codes\n",
    "   "
   ]
  },
  {
   "cell_type": "code",
   "execution_count": 7,
   "metadata": {},
   "outputs": [
    {
     "data": {
      "text/plain": [
       "[]"
      ]
     },
     "execution_count": 7,
     "metadata": {},
     "output_type": "execute_result"
    }
   ],
   "source": [
    "connection = sqlite3.connect('data.db')\n",
    "get_stocks(pd.to_datetime('2021/6/18'), connection)"
   ]
  },
  {
   "cell_type": "code",
   "execution_count": 8,
   "metadata": {},
   "outputs": [
    {
     "name": "stderr",
     "output_type": "stream",
     "text": [
      "<ipython-input-8-14c5fd4b4584>:9: FutureWarning: Indexing a timezone-aware DatetimeIndex with a timezone-naive datetime is deprecated and will raise KeyError in a future version.  Use a timezone-aware object instead.\n",
      "  if date not in tw_calendar.opens:\n"
     ]
    },
    {
     "data": {
      "text/plain": [
       "{Timestamp('2021-06-10 00:00:00', freq='D'): [],\n",
       " Timestamp('2021-06-11 00:00:00', freq='D'): ['2002',\n",
       "  '2014',\n",
       "  '2023',\n",
       "  '2027',\n",
       "  '2601',\n",
       "  '2605',\n",
       "  '2607',\n",
       "  '2610',\n",
       "  '2618',\n",
       "  '6116']}"
      ]
     },
     "execution_count": 8,
     "metadata": {},
     "output_type": "execute_result"
    }
   ],
   "source": [
    "start = '2021/6/10'\n",
    "end = '2021/6/11'\n",
    "daily_target = {}\n",
    " \n",
    "tw_calendar = get_calendar('XTAI')\n",
    "\n",
    "for date in pd.date_range(start, end):\n",
    "    \n",
    "    if date not in tw_calendar.opens:\n",
    "            continue\n",
    "  \n",
    "    codes = get_stocks(date, connection)\n",
    "   \n",
    "    daily_target[date] = codes\n",
    "    \n",
    "daily_target"
   ]
  },
  {
   "cell_type": "code",
   "execution_count": null,
   "metadata": {},
   "outputs": [],
   "source": []
  }
 ],
 "metadata": {
  "kernelspec": {
   "display_name": "Python 3",
   "language": "python",
   "name": "python3"
  },
  "language_info": {
   "codemirror_mode": {
    "name": "ipython",
    "version": 3
   },
   "file_extension": ".py",
   "mimetype": "text/x-python",
   "name": "python",
   "nbconvert_exporter": "python",
   "pygments_lexer": "ipython3",
   "version": "3.8.8"
  }
 },
 "nbformat": 4,
 "nbformat_minor": 4
}
